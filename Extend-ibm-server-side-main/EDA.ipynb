{
 "cells": [
  {
   "cell_type": "code",
   "execution_count": 1,
   "metadata": {},
   "outputs": [],
   "source": [
    "import pandas as pd\n",
    "import json"
   ]
  },
  {
   "cell_type": "code",
   "execution_count": 2,
   "metadata": {},
   "outputs": [
    {
     "data": {
      "text/plain": [
       "[{'url': 'https://www.houseplans.com/plan/2047-square-feet-4-bedroom-3-bathroom-2-garage-country-craftsman-farmhouse-ranch-sp346871',\n",
       "  'image_urls': ['houseplan_images/url_1/image_1.jpg',\n",
       "   'houseplan_images/url_1/image_2.jpg',\n",
       "   'houseplan_images/url_1/image_3.jpg',\n",
       "   'houseplan_images/url_1/image_4.jpg',\n",
       "   'houseplan_images/url_1/image_5.jpg',\n",
       "   'houseplan_images/url_1/image_6.jpg',\n",
       "   'houseplan_images/url_1/image_7.jpg',\n",
       "   'houseplan_images/url_1/image_8.jpg'],\n",
       "  'categories': {'Basic Features': ['Bedrooms : 4',\n",
       "    'Baths : 3',\n",
       "    'Stories: 1',\n",
       "    'Garages: 2'],\n",
       "   'Dimension': ['Depth : 62\\' 10\"', 'Height : 29\\' 3\"', \"Width : 55'\"],\n",
       "   'Area': ['Garage : 467 sq/ft',\n",
       "    'Main Floor : 2047 sq/ft',\n",
       "    'Porch : 423 sq/ft'],\n",
       "   'Ceiling': [\"Garage Ceiling : 9'\", \"Main Ceiling : 9'\"],\n",
       "   'Roof': ['Primary Pitch : 7:12',\n",
       "    'Roof Type : stick',\n",
       "    'Secondary Pitch : 3:12'],\n",
       "   'Exterior Wall Framing': ['Exterior Wall Finish : siding', 'Framing : 2x4'],\n",
       "   'Bedroom Features': ['Main Floor Master Bedroom',\n",
       "    'Split Bedrooms',\n",
       "    'Walk In Closet'],\n",
       "   'Kitchen Features': ['Kitchen Island', 'Walk In Pantry Cabinet Pantry'],\n",
       "   'Additional Room Features': ['Great Room Living Room',\n",
       "    'Main Floor Laundry',\n",
       "    'Mud Room'],\n",
       "   'Garage Features': ['Front Entry Garage', 'Side Entry Garage'],\n",
       "   'Lot Characteristics': ['Suited For Corner Lot',\n",
       "    'Suited For Narrow Lot',\n",
       "    'Suited For View Lot'],\n",
       "   'Outdoor Spaces': ['Covered Front Porch', 'Covered Rear Porch']}}]"
      ]
     },
     "execution_count": 2,
     "metadata": {},
     "output_type": "execute_result"
    }
   ],
   "source": [
    "with open('./all_scraped_data.json') as file:\n",
    "    data = json.load(file)\n",
    "    \n",
    "data[:1]"
   ]
  },
  {
   "cell_type": "code",
   "execution_count": 4,
   "metadata": {},
   "outputs": [
    {
     "data": {
      "text/html": [
       "<div>\n",
       "<style scoped>\n",
       "    .dataframe tbody tr th:only-of-type {\n",
       "        vertical-align: middle;\n",
       "    }\n",
       "\n",
       "    .dataframe tbody tr th {\n",
       "        vertical-align: top;\n",
       "    }\n",
       "\n",
       "    .dataframe thead th {\n",
       "        text-align: right;\n",
       "    }\n",
       "</style>\n",
       "<table border=\"1\" class=\"dataframe\">\n",
       "  <thead>\n",
       "    <tr style=\"text-align: right;\">\n",
       "      <th></th>\n",
       "      <th>Image Directory</th>\n",
       "      <th>Bedrooms</th>\n",
       "      <th>Baths</th>\n",
       "      <th>Stories</th>\n",
       "      <th>Garages</th>\n",
       "      <th>Depth</th>\n",
       "      <th>Height</th>\n",
       "      <th>Width</th>\n",
       "    </tr>\n",
       "  </thead>\n",
       "  <tbody>\n",
       "    <tr>\n",
       "      <th>0</th>\n",
       "      <td>url_1</td>\n",
       "      <td>4</td>\n",
       "      <td>3</td>\n",
       "      <td>1</td>\n",
       "      <td>2</td>\n",
       "      <td>62' 10\"</td>\n",
       "      <td>29' 3\"</td>\n",
       "      <td>55'</td>\n",
       "    </tr>\n",
       "    <tr>\n",
       "      <th>1</th>\n",
       "      <td>url_2</td>\n",
       "      <td>3</td>\n",
       "      <td>2.5</td>\n",
       "      <td>1</td>\n",
       "      <td>2</td>\n",
       "      <td>47' 8\"</td>\n",
       "      <td>25' 1\"</td>\n",
       "      <td>45'</td>\n",
       "    </tr>\n",
       "    <tr>\n",
       "      <th>2</th>\n",
       "      <td>url_3</td>\n",
       "      <td>4</td>\n",
       "      <td>3.5</td>\n",
       "      <td>1</td>\n",
       "      <td>3</td>\n",
       "      <td>69' 10\"</td>\n",
       "      <td>29' 9\"</td>\n",
       "      <td>83' 1\"</td>\n",
       "    </tr>\n",
       "    <tr>\n",
       "      <th>3</th>\n",
       "      <td>url_4</td>\n",
       "      <td>1</td>\n",
       "      <td>1</td>\n",
       "      <td>1</td>\n",
       "      <td>3</td>\n",
       "      <td>45'</td>\n",
       "      <td>29' 10\"</td>\n",
       "      <td>66'</td>\n",
       "    </tr>\n",
       "    <tr>\n",
       "      <th>4</th>\n",
       "      <td>url_5</td>\n",
       "      <td>1</td>\n",
       "      <td>1</td>\n",
       "      <td>1</td>\n",
       "      <td>2</td>\n",
       "      <td>38'</td>\n",
       "      <td>26' 7\"</td>\n",
       "      <td>48'</td>\n",
       "    </tr>\n",
       "  </tbody>\n",
       "</table>\n",
       "</div>"
      ],
      "text/plain": [
       "  Image Directory Bedrooms Baths Stories Garages    Depth   Height   Width\n",
       "0           url_1        4     3       1       2  62' 10\"   29' 3\"     55'\n",
       "1           url_2        3   2.5       1       2   47' 8\"   25' 1\"     45'\n",
       "2           url_3        4   3.5       1       3  69' 10\"   29' 9\"  83' 1\"\n",
       "3           url_4        1     1       1       3      45'  29' 10\"     66'\n",
       "4           url_5        1     1       1       2      38'   26' 7\"     48'"
      ]
     },
     "execution_count": 4,
     "metadata": {},
     "output_type": "execute_result"
    }
   ],
   "source": [
    "# Extracting the relevant data and forming a structured dictionary\n",
    "structured_data = []\n",
    "for entry in data:\n",
    "    if entry[\"image_urls\"]:\n",
    "        url_directory = entry[\"image_urls\"][0].split('/')[1]\n",
    "    else:\n",
    "        url_directory = \"No URL\"\n",
    "    \n",
    "    basic_features = {}\n",
    "    if \"Basic Features\" in entry[\"categories\"]:\n",
    "        basic_features = {feature.split(':')[0].strip(): feature.split(':')[1].strip() for feature in entry[\"categories\"][\"Basic Features\"]}\n",
    "    \n",
    "    dimensions = {}\n",
    "    if \"Dimension\" in entry[\"categories\"]:\n",
    "        dimensions = {dimension.split(':')[0].strip(): dimension.split(':')[1].strip() for dimension in entry[\"categories\"][\"Dimension\"]}\n",
    "    \n",
    "    structured_data.append({\n",
    "        \"Image Directory\": url_directory,\n",
    "        **basic_features,\n",
    "        **dimensions\n",
    "    })\n",
    "\n",
    "# Converting the structured data into a pandas DataFrame\n",
    "df = pd.DataFrame(structured_data)\n",
    "\n",
    "# Displaying the DataFrame\n",
    "df.head()"
   ]
  },
  {
   "cell_type": "code",
   "execution_count": 5,
   "metadata": {},
   "outputs": [
    {
     "data": {
      "text/html": [
       "<div>\n",
       "<style scoped>\n",
       "    .dataframe tbody tr th:only-of-type {\n",
       "        vertical-align: middle;\n",
       "    }\n",
       "\n",
       "    .dataframe tbody tr th {\n",
       "        vertical-align: top;\n",
       "    }\n",
       "\n",
       "    .dataframe thead th {\n",
       "        text-align: right;\n",
       "    }\n",
       "</style>\n",
       "<table border=\"1\" class=\"dataframe\">\n",
       "  <thead>\n",
       "    <tr style=\"text-align: right;\">\n",
       "      <th></th>\n",
       "      <th>Image Directory</th>\n",
       "      <th>Bedrooms</th>\n",
       "      <th>Baths</th>\n",
       "      <th>Stories</th>\n",
       "      <th>Garages</th>\n",
       "      <th>Depth</th>\n",
       "      <th>Height</th>\n",
       "      <th>Width</th>\n",
       "    </tr>\n",
       "  </thead>\n",
       "  <tbody>\n",
       "    <tr>\n",
       "      <th>count</th>\n",
       "      <td>1004</td>\n",
       "      <td>995</td>\n",
       "      <td>995</td>\n",
       "      <td>995</td>\n",
       "      <td>995</td>\n",
       "      <td>995</td>\n",
       "      <td>953</td>\n",
       "      <td>995</td>\n",
       "    </tr>\n",
       "    <tr>\n",
       "      <th>unique</th>\n",
       "      <td>996</td>\n",
       "      <td>8</td>\n",
       "      <td>14</td>\n",
       "      <td>4</td>\n",
       "      <td>9</td>\n",
       "      <td>272</td>\n",
       "      <td>224</td>\n",
       "      <td>260</td>\n",
       "    </tr>\n",
       "    <tr>\n",
       "      <th>top</th>\n",
       "      <td>No URL</td>\n",
       "      <td>3</td>\n",
       "      <td>2</td>\n",
       "      <td>2</td>\n",
       "      <td>2</td>\n",
       "      <td>50'</td>\n",
       "      <td>26'</td>\n",
       "      <td>40'</td>\n",
       "    </tr>\n",
       "    <tr>\n",
       "      <th>freq</th>\n",
       "      <td>9</td>\n",
       "      <td>467</td>\n",
       "      <td>318</td>\n",
       "      <td>529</td>\n",
       "      <td>440</td>\n",
       "      <td>34</td>\n",
       "      <td>34</td>\n",
       "      <td>61</td>\n",
       "    </tr>\n",
       "  </tbody>\n",
       "</table>\n",
       "</div>"
      ],
      "text/plain": [
       "       Image Directory Bedrooms Baths Stories Garages Depth Height Width\n",
       "count             1004      995   995     995     995   995    953   995\n",
       "unique             996        8    14       4       9   272    224   260\n",
       "top             No URL        3     2       2       2   50'    26'   40'\n",
       "freq                 9      467   318     529     440    34     34    61"
      ]
     },
     "execution_count": 5,
     "metadata": {},
     "output_type": "execute_result"
    }
   ],
   "source": [
    "df.describe()"
   ]
  },
  {
   "cell_type": "code",
   "execution_count": 6,
   "metadata": {},
   "outputs": [
    {
     "name": "stdout",
     "output_type": "stream",
     "text": [
      "<class 'pandas.core.frame.DataFrame'>\n",
      "RangeIndex: 1004 entries, 0 to 1003\n",
      "Data columns (total 8 columns):\n",
      " #   Column           Non-Null Count  Dtype \n",
      "---  ------           --------------  ----- \n",
      " 0   Image Directory  1004 non-null   object\n",
      " 1   Bedrooms         995 non-null    object\n",
      " 2   Baths            995 non-null    object\n",
      " 3   Stories          995 non-null    object\n",
      " 4   Garages          995 non-null    object\n",
      " 5   Depth            995 non-null    object\n",
      " 6   Height           953 non-null    object\n",
      " 7   Width            995 non-null    object\n",
      "dtypes: object(8)\n",
      "memory usage: 62.9+ KB\n"
     ]
    }
   ],
   "source": [
    "df.info()"
   ]
  },
  {
   "cell_type": "code",
   "execution_count": 7,
   "metadata": {},
   "outputs": [],
   "source": [
    "# Handle NaN values (for this example, we'll drop rows with any NaN values)\n",
    "df = df.dropna()"
   ]
  },
  {
   "cell_type": "code",
   "execution_count": 8,
   "metadata": {},
   "outputs": [
    {
     "data": {
      "text/plain": [
       "Image Directory    0\n",
       "Bedrooms           0\n",
       "Baths              0\n",
       "Stories            0\n",
       "Garages            0\n",
       "Depth              0\n",
       "Height             0\n",
       "Width              0\n",
       "dtype: int64"
      ]
     },
     "execution_count": 8,
     "metadata": {},
     "output_type": "execute_result"
    }
   ],
   "source": [
    "df.isna().sum()"
   ]
  },
  {
   "cell_type": "code",
   "execution_count": 9,
   "metadata": {},
   "outputs": [
    {
     "name": "stdout",
     "output_type": "stream",
     "text": [
      "<class 'pandas.core.frame.DataFrame'>\n",
      "Index: 953 entries, 0 to 1003\n",
      "Data columns (total 8 columns):\n",
      " #   Column           Non-Null Count  Dtype \n",
      "---  ------           --------------  ----- \n",
      " 0   Image Directory  953 non-null    object\n",
      " 1   Bedrooms         953 non-null    object\n",
      " 2   Baths            953 non-null    object\n",
      " 3   Stories          953 non-null    object\n",
      " 4   Garages          953 non-null    object\n",
      " 5   Depth            953 non-null    object\n",
      " 6   Height           953 non-null    object\n",
      " 7   Width            953 non-null    object\n",
      "dtypes: object(8)\n",
      "memory usage: 67.0+ KB\n"
     ]
    }
   ],
   "source": [
    "df.info()"
   ]
  },
  {
   "cell_type": "code",
   "execution_count": 10,
   "metadata": {},
   "outputs": [],
   "source": [
    "# Remove non-numeric characters and convert to float\n",
    "import numpy as np\n",
    "def convert_to_float(value):\n",
    "    if isinstance(value, str):\n",
    "        value = value.replace(\"'\", \"\").replace(\"\\\"\", \"\").replace(\",\", \"\").strip()\n",
    "        parts = value.split()\n",
    "        if len(parts) == 2:\n",
    "            return float(parts[0]) + float(parts[1]) / 12\n",
    "        elif len(parts) == 1:\n",
    "            return float(parts[0])\n",
    "    return float(value)\n"
   ]
  },
  {
   "cell_type": "code",
   "execution_count": 11,
   "metadata": {},
   "outputs": [],
   "source": [
    "columns_to_convert = [\"Bedrooms\", \"Baths\", \"Stories\", \"Garages\", \"Depth\", \"Height\", \"Width\"]\n",
    "for column in columns_to_convert:\n",
    "    df[column] = df[column].apply(lambda x: convert_to_float(x) if pd.notnull(x) else np.nan)\n"
   ]
  },
  {
   "cell_type": "code",
   "execution_count": 12,
   "metadata": {},
   "outputs": [
    {
     "name": "stdout",
     "output_type": "stream",
     "text": [
      "<class 'pandas.core.frame.DataFrame'>\n",
      "Index: 953 entries, 0 to 1003\n",
      "Data columns (total 8 columns):\n",
      " #   Column           Non-Null Count  Dtype  \n",
      "---  ------           --------------  -----  \n",
      " 0   Image Directory  953 non-null    object \n",
      " 1   Bedrooms         953 non-null    float64\n",
      " 2   Baths            953 non-null    float64\n",
      " 3   Stories          953 non-null    float64\n",
      " 4   Garages          953 non-null    float64\n",
      " 5   Depth            953 non-null    float64\n",
      " 6   Height           953 non-null    float64\n",
      " 7   Width            953 non-null    float64\n",
      "dtypes: float64(7), object(1)\n",
      "memory usage: 67.0+ KB\n"
     ]
    }
   ],
   "source": [
    "df.info()"
   ]
  },
  {
   "cell_type": "code",
   "execution_count": 13,
   "metadata": {},
   "outputs": [
    {
     "data": {
      "text/html": [
       "<div>\n",
       "<style scoped>\n",
       "    .dataframe tbody tr th:only-of-type {\n",
       "        vertical-align: middle;\n",
       "    }\n",
       "\n",
       "    .dataframe tbody tr th {\n",
       "        vertical-align: top;\n",
       "    }\n",
       "\n",
       "    .dataframe thead th {\n",
       "        text-align: right;\n",
       "    }\n",
       "</style>\n",
       "<table border=\"1\" class=\"dataframe\">\n",
       "  <thead>\n",
       "    <tr style=\"text-align: right;\">\n",
       "      <th></th>\n",
       "      <th>Image Directory</th>\n",
       "      <th>Bedrooms</th>\n",
       "      <th>Baths</th>\n",
       "      <th>Stories</th>\n",
       "      <th>Garages</th>\n",
       "      <th>Depth</th>\n",
       "      <th>Height</th>\n",
       "      <th>Width</th>\n",
       "    </tr>\n",
       "  </thead>\n",
       "  <tbody>\n",
       "    <tr>\n",
       "      <th>0</th>\n",
       "      <td>url_1</td>\n",
       "      <td>4.0</td>\n",
       "      <td>3.0</td>\n",
       "      <td>1.0</td>\n",
       "      <td>2.0</td>\n",
       "      <td>62.833333</td>\n",
       "      <td>29.250000</td>\n",
       "      <td>55.000000</td>\n",
       "    </tr>\n",
       "    <tr>\n",
       "      <th>1</th>\n",
       "      <td>url_2</td>\n",
       "      <td>3.0</td>\n",
       "      <td>2.5</td>\n",
       "      <td>1.0</td>\n",
       "      <td>2.0</td>\n",
       "      <td>47.666667</td>\n",
       "      <td>25.083333</td>\n",
       "      <td>45.000000</td>\n",
       "    </tr>\n",
       "    <tr>\n",
       "      <th>2</th>\n",
       "      <td>url_3</td>\n",
       "      <td>4.0</td>\n",
       "      <td>3.5</td>\n",
       "      <td>1.0</td>\n",
       "      <td>3.0</td>\n",
       "      <td>69.833333</td>\n",
       "      <td>29.750000</td>\n",
       "      <td>83.083333</td>\n",
       "    </tr>\n",
       "    <tr>\n",
       "      <th>3</th>\n",
       "      <td>url_4</td>\n",
       "      <td>1.0</td>\n",
       "      <td>1.0</td>\n",
       "      <td>1.0</td>\n",
       "      <td>3.0</td>\n",
       "      <td>45.000000</td>\n",
       "      <td>29.833333</td>\n",
       "      <td>66.000000</td>\n",
       "    </tr>\n",
       "    <tr>\n",
       "      <th>4</th>\n",
       "      <td>url_5</td>\n",
       "      <td>1.0</td>\n",
       "      <td>1.0</td>\n",
       "      <td>1.0</td>\n",
       "      <td>2.0</td>\n",
       "      <td>38.000000</td>\n",
       "      <td>26.583333</td>\n",
       "      <td>48.000000</td>\n",
       "    </tr>\n",
       "  </tbody>\n",
       "</table>\n",
       "</div>"
      ],
      "text/plain": [
       "  Image Directory  Bedrooms  Baths  Stories  Garages      Depth     Height  \\\n",
       "0           url_1       4.0    3.0      1.0      2.0  62.833333  29.250000   \n",
       "1           url_2       3.0    2.5      1.0      2.0  47.666667  25.083333   \n",
       "2           url_3       4.0    3.5      1.0      3.0  69.833333  29.750000   \n",
       "3           url_4       1.0    1.0      1.0      3.0  45.000000  29.833333   \n",
       "4           url_5       1.0    1.0      1.0      2.0  38.000000  26.583333   \n",
       "\n",
       "       Width  \n",
       "0  55.000000  \n",
       "1  45.000000  \n",
       "2  83.083333  \n",
       "3  66.000000  \n",
       "4  48.000000  "
      ]
     },
     "execution_count": 13,
     "metadata": {},
     "output_type": "execute_result"
    }
   ],
   "source": [
    "df.head()"
   ]
  }
 ],
 "metadata": {
  "kernelspec": {
   "display_name": "scraping-stuffs",
   "language": "python",
   "name": "python3"
  },
  "language_info": {
   "codemirror_mode": {
    "name": "ipython",
    "version": 3
   },
   "file_extension": ".py",
   "mimetype": "text/x-python",
   "name": "python",
   "nbconvert_exporter": "python",
   "pygments_lexer": "ipython3",
   "version": "3.12.4"
  }
 },
 "nbformat": 4,
 "nbformat_minor": 2
}
